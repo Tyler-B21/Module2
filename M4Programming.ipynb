{
 "cells": [
  {
   "cell_type": "markdown",
   "id": "a67069d3-ed21-4be2-8268-0640965bc9e3",
   "metadata": {},
   "source": [
    "import os\n",
    "os.chdir('/Users/tsbis/Documents/OneDrive/SDEV220')\n",
    "import zoo\n",
    "zoo.hours()"
   ]
  },
  {
   "cell_type": "markdown",
   "id": "486fe2f8-73e9-45cb-9a0e-b1ada4b91d46",
   "metadata": {},
   "source": [
    "import os\n",
    "os.chdir('/Users/tsbis/Documents/OneDrive/SDEV220')\n",
    "import zoo as menagerie\n",
    "menagerie.hours()"
   ]
  },
  {
   "cell_type": "code",
   "execution_count": 13,
   "id": "48e94c6b-23ce-4e28-ad12-a6adec94d6e3",
   "metadata": {},
   "outputs": [
    {
     "data": {
      "text/plain": [
       "<sqlite3.Cursor at 0x17dacf6abc0>"
      ]
     },
     "execution_count": 13,
     "metadata": {},
     "output_type": "execute_result"
    }
   ],
   "source": [
    "import csv\n",
    "books2 = [\n",
    "import sqlite3\n",
    "conn = sqlite3.connect('books.db')\n",
    "curs = conn.cursor()\n",
    "curs.execute('''CREATE TABLE books\n",
    "    (title VARCHAR(30) PRIMARY KEY,\n",
    "     author VARCHAR(20),\n",
    "     year INT)''')"
   ]
  }
 ],
 "metadata": {
  "kernelspec": {
   "display_name": "Python 3 (ipykernel)",
   "language": "python",
   "name": "python3"
  },
  "language_info": {
   "codemirror_mode": {
    "name": "ipython",
    "version": 3
   },
   "file_extension": ".py",
   "mimetype": "text/x-python",
   "name": "python",
   "nbconvert_exporter": "python",
   "pygments_lexer": "ipython3",
   "version": "3.12.4"
  }
 },
 "nbformat": 4,
 "nbformat_minor": 5
}
